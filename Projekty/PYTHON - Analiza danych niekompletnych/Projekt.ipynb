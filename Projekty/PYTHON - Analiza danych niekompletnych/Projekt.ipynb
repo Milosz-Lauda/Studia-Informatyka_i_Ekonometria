{
  "cells": [
    {
      "cell_type": "markdown",
      "source": [
        "# 1. Wstęp\n",
        "\n",
        "\n",
        "---"
      ],
      "metadata": {
        "id": "hqDatRGrHyNn"
      }
    },
    {
      "cell_type": "markdown",
      "source": [
        "Wynik na Kaggle: **89401.11**\n",
        "\n",
        "Nick: **Miłosz Lauda**\n",
        "\n",
        "Zajęte miejsce w rankingu: **10**\n",
        "\n",
        "W projekcie zastosowano imputację metodą iteracyjnego imputatora dostępną w bibliotece scikit.learn. Jako estymator w metodzie (zamiast domyślnej regresji liniowej) zastosowano algorytm lasu losowego (Random Forest Regressor dla zmiennych flat_rooms i flat_area, Random Forest Classifier dla zmiennych przedstawionych w formacie binarnym). Jako główny model predykcji cen nieruchomości wykorzystano model Random Forest Regressor. W projekcie skorzystano z dużych modeli językowych, głównie z dostępnego w Google Colab modelu Gemini, który znacznie przyspieszył pracę wykonując zlecone mu zadania. Dodatkowo także ChatGPT.\n",
        "\n",
        "Wyniki są w pełni odtwarzalne poprzez ustawienie ziarna dla modelu predykcji."
      ],
      "metadata": {
        "id": "6TCDAEy8OJdg"
      }
    },
    {
      "cell_type": "markdown",
      "source": [
        "# 2. Metodyka\n",
        "\n",
        "\n",
        "---"
      ],
      "metadata": {
        "id": "EBlQQGYfsSS2"
      }
    },
    {
      "cell_type": "markdown",
      "source": [
        "Wstępna analiza obejmowała usunięcie kolumn datowych, ponieważ nie zdecydowano się ostatecznie na zawarcie informacji w nich zawartych do analizy, a także identyfikację i zamianę wartości nieprawidłowych, takich jak ujemne liczby w kolumnach dotyczących powierzchni mieszkań i liczby pokoi. Dane zostały przygotowane tak, aby mogły być wykorzystane w modelach predykcyjnych.\n",
        "\n",
        "Kolejnym krokiem była imputacja brakujących danych. W tym celu zastosowano iteracyjny imputator (IterativeImputer) oparty na lasach losowych, który pozwala na uzupełnianie zarówno cech zero-jedynkowych jak i ciągłych. Dla cech kategorialnych(quarter) użyto kodowania One-Hot (OneHotEncoder), co umożliwiło przekształcenie zmiennych tekstowych na reprezentacje numeryczne.\n",
        "\n",
        "W modelowaniu wykorzystano regresor Random Forest, który charakteryzuje się odpornością na nadmierne dopasowanie i skutecznością w radzeniu sobie z danymi o dużej liczbie zmiennych. Do oceny modelu skorzystano z walidacji krzyżowej. Wyniki oceniano na podstawie metryk, takich jak średni błąd kwadratowy (MSE) oraz współczynnik determinacji (R-squared).\n",
        "\n",
        "Z metod, z których nie skorzystano ale sprawdzano i brano pod uwagę było skalowanie zmiennych i usuwanie wartości odstających."
      ],
      "metadata": {
        "id": "2LWNG1worggF"
      }
    },
    {
      "cell_type": "markdown",
      "source": [
        "# 3. Wynik\n",
        "\n",
        "---"
      ],
      "metadata": {
        "id": "vlUj41SlsSNw"
      }
    },
    {
      "cell_type": "markdown",
      "source": [
        "Ilość prób na Kaggle: **53**\n",
        "\n",
        "Sama zmiana głównego modelu z regresji liniowej na las losowy poskutkowało poprawieniem wyniku z 220 000 do 94 000.\n",
        "Nie zdecydowano się na skorzystania z strojenia parametrów modelu z uwagi na brak polepszenia MSE, a także na długi czas wykonywania kodu. Natomiast zamiast GridSearch (którego czas wykonywania jest zdecydowanie długi z uwagi na ślepe sprawdzanie wszystkich kombinacji parametrów) i zamiast Random Search, ktróry może pominąć najlepsze parametry polecam bibliotekę *Optuna*. Narzędzie to przeszukuje przestrzeń hiperparametrów w sposób inteligentny, dzieląc ją na zbiór mniej i bardziej obiecujący i zawężając swoje poszukiwania. [Optuna](https://optuna.org/) .\n",
        "\n",
        "Zmiana metody imputacji z KNNImputer na IterativeImputer zmniejszyła MSE o 5tys.\n",
        "\n",
        "Ponadto znaczące poprawienie wyników powstało także wskutek skorzystania z wyrażeń regularnych i wyciągnięcia informacji z tytułu (zmniejszenie MSE o około 3tys.), a także zmiana metody imputacji ze zwykłego IterativeImputer na IterativeImputer korzystającego z estymatorów Random Forest Classifier i Regressor (zmniejszenie MSE o około 1tys.)."
      ],
      "metadata": {
        "id": "5Ei-19rMrhTD"
      }
    },
    {
      "cell_type": "markdown",
      "source": [
        "# 4. Podsumowanie\n",
        "\n",
        "\n",
        "---"
      ],
      "metadata": {
        "id": "cLjVkczMsSFT"
      }
    },
    {
      "cell_type": "markdown",
      "source": [
        "Modele LLM okazały się nieocenione w budowie projektu. Nie chodzi tylko o pisanie kodu, ale także o generowanie pomysłów do poprawienia wyniku, mimo iż nie zawsze wynik się poprawiał.\n",
        "\n",
        "Jednym z pomysłów, które przyniosło nieznaczną poprawę wyniku jest stworzenie zmiennych kawalerka, ponieważ 25% obserwacji w obu zbiorach to są kawalerki, a także stworzenie zmiennej luksus na podstawie specyficznych słów w tytule. Dużą nadzieję wiązałem z wykorzystaniem zmiennej flat_deposit, która dla zbioru treningowego w 25% obserwacji była równa zmiennej price, ale ostatecznie nie przyniosło to zadowalających rezultatów."
      ],
      "metadata": {
        "id": "sHL5-vbLrh2D"
      }
    },
    {
      "cell_type": "markdown",
      "source": [
        "\n",
        "# 5. Kod\n",
        "\n",
        "---"
      ],
      "metadata": {
        "id": "PG7U_axtizxY"
      }
    },
    {
      "cell_type": "markdown",
      "metadata": {
        "id": "g7n6SU2cnWze"
      },
      "source": [
        "## **Załadowanie potrzebnych pakietów**\n",
        "\n",
        "---"
      ]
    },
    {
      "source": [
        "# Import biblioteki pandas do pracy z ramkami danych\n",
        "import pandas as pd\n",
        "\n",
        "# Import biblioteki numpy do obliczeń numerycznych\n",
        "import numpy as np\n",
        "\n",
        "# Import biblioteki re do pracy z wyrażeniami regularnymi\n",
        "import re\n",
        "\n",
        "# Import klasy OneHotEncoder do kodowania zmiennych kategorialnych na zmienne numeryczne\n",
        "from sklearn.preprocessing import OneHotEncoder\n",
        "\n",
        "# Import funkcji cross_validate do walidacji krzyżowej modelu\n",
        "from sklearn.model_selection import cross_validate\n",
        "\n",
        "# Import klasy KFold do podziału danych na k-foldy w walidacji krzyżowej\n",
        "from sklearn.model_selection import KFold\n",
        "\n",
        "# Włączenie eksperymentalnej funkcji IterativeImputer (uzupełnianie brakujących danych)\n",
        "from sklearn.experimental import enable_iterative_imputer\n",
        "\n",
        "# Import klasy IterativeImputer do uzupełniania brakujących danych iteracyjnie\n",
        "from sklearn.impute import IterativeImputer\n",
        "\n",
        "# Import klasy RandomForestClassifier do klasyfikacji (uzupełnianie brakujących danych (binarnych))\n",
        "from sklearn.ensemble import RandomForestClassifier\n",
        "\n",
        "# Import klasy RandomForestRegressor do regresji (uzupełnianie brakujących danych numerycznych(ciągłych) i budowa modelu)\n",
        "from sklearn.ensemble import RandomForestRegressor\n",
        "\n",
        "# Import funkcji mean_squared_error i r2_score do oceny modelu regresji\n",
        "from sklearn.metrics import mean_squared_error, r2_score"
      ],
      "cell_type": "code",
      "metadata": {
        "id": "6x3l86E4zrku"
      },
      "execution_count": 24,
      "outputs": []
    },
    {
      "cell_type": "markdown",
      "metadata": {
        "id": "N6MMk9tEPnwj"
      },
      "source": [
        "## **Import danych**\n",
        "\n",
        "---"
      ]
    },
    {
      "cell_type": "code",
      "execution_count": 25,
      "metadata": {
        "id": "9j9hGnr_SOQw"
      },
      "outputs": [],
      "source": [
        "train_df = pd.read_csv('pzn-rent-train.csv')\n",
        "test_df = pd.read_csv('pzn-rent-test.csv')"
      ]
    },
    {
      "cell_type": "markdown",
      "metadata": {
        "id": "L01_FPfWCoRq"
      },
      "source": [
        "## **Przygotowanie danych**\n",
        "\n",
        "---"
      ]
    },
    {
      "cell_type": "markdown",
      "source": [
        "Złączenie obu zbiorów danych"
      ],
      "metadata": {
        "id": "XUm19LTO4AEB"
      }
    },
    {
      "cell_type": "code",
      "execution_count": 26,
      "metadata": {
        "id": "-rVRHdWVoNM1"
      },
      "outputs": [],
      "source": [
        "rent_df = pd.concat([train_df, test_df], ignore_index=True)"
      ]
    },
    {
      "cell_type": "markdown",
      "source": [
        "Usunięcie kolumn zawierających datę"
      ],
      "metadata": {
        "id": "40WH2rBVESAA"
      }
    },
    {
      "cell_type": "code",
      "source": [
        "rent_df.drop(['date_activ','date_modif','date_expire'], axis=1, inplace=True)"
      ],
      "metadata": {
        "id": "YbbKSAeQEEjS"
      },
      "execution_count": 27,
      "outputs": []
    },
    {
      "cell_type": "markdown",
      "source": [
        "Zastąpienie wartości ujemnych w kolumnach flat_area i flat_rooms brakującymi wartościami"
      ],
      "metadata": {
        "id": "gd38hjJQDM-K"
      }
    },
    {
      "source": [
        "rent_df.loc[rent_df['flat_area'] < 0, 'flat_area'] = np.nan\n",
        "\n",
        "rent_df.loc[rent_df['flat_rooms'] < 0, 'flat_rooms'] = np.nan"
      ],
      "cell_type": "code",
      "metadata": {
        "id": "K7eBCeZ45qn4"
      },
      "execution_count": 28,
      "outputs": []
    },
    {
      "cell_type": "markdown",
      "source": [
        "## **Użycie wyrażen regularnych**\n",
        "\n",
        "---"
      ],
      "metadata": {
        "id": "voQ2NztNCPI3"
      }
    },
    {
      "cell_type": "code",
      "execution_count": 29,
      "metadata": {
        "colab": {
          "base_uri": "https://localhost:8080/",
          "height": 0
        },
        "id": "C0GR0qSrCDNy",
        "outputId": "ac99af02-857a-44d1-c2c4-47d6121881b2"
      },
      "outputs": [
        {
          "output_type": "stream",
          "name": "stderr",
          "text": [
            "<ipython-input-29-a9957d5cb152>:124: FutureWarning: Setting an item of incompatible dtype is deprecated and will raise an error in a future version of pandas. Value '1' has dtype incompatible with bool, please explicitly cast to a compatible dtype first.\n",
            "  df.loc[index, 'flat_air_cond'] = air_conditioning\n"
          ]
        }
      ],
      "source": [
        "def extract_info(ad_title):\n",
        "    \"\"\"\n",
        "    Wyodrębnia informacje o pokojach, powierzchni, dzielnicy, kawalerce, balkonie i garażu\n",
        "    z tytułu ogłoszenia.\n",
        "    \"\"\"\n",
        "    price = None\n",
        "    area = None\n",
        "    rooms = None\n",
        "    furnished = None\n",
        "    students = None\n",
        "    balcony = None\n",
        "    garage = None\n",
        "    garden = None\n",
        "    air_conditioning = None\n",
        "    internet = None\n",
        "    quarter = None\n",
        "    kawalerka = None\n",
        "    luksus = None\n",
        "\n",
        "    # Extract price\n",
        "    match = re.search(r'(\\d+)\\s*zł|zl', ad_title, re.IGNORECASE)\n",
        "    if match:\n",
        "        # Check if match.group(1) is not None before converting to int\n",
        "        if match.group(1) is not None:\n",
        "            price = int(match.group(1))\n",
        "        else:\n",
        "            price = None  # Or any other default value you prefer\n",
        "\n",
        "    # Extract area\n",
        "    match = re.search(r'(\\d+(?:,\\d+)?)\\s*(?:m2|m²|metr|mkw|m kw)', ad_title, re.IGNORECASE)\n",
        "    if match:\n",
        "        area = float(match.group(1).replace(',', '.'))\n",
        "\n",
        "    # Extract number of rooms\n",
        "    match = re.search(r'(\\d+)\\s*pok', ad_title, re.IGNORECASE)\n",
        "    if match:\n",
        "        rooms = int(match.group(1))\n",
        "\n",
        "    # Check for furnished\n",
        "    match = re.search(r'\\b(?!nie)(umebl|wyposaż)\\w*\\b', ad_title, re.IGNORECASE)\n",
        "    if match:\n",
        "        furnished = 1\n",
        "\n",
        "    # Check for students\n",
        "    match = re.search(r'studen', ad_title, re.IGNORECASE)\n",
        "    if match:\n",
        "        students = 1\n",
        "\n",
        "    # Check for balcony\n",
        "    match =  re.search(r'balkon', ad_title, re.IGNORECASE)\n",
        "    if match:\n",
        "        balcony = 1\n",
        "\n",
        "    # Check for garage\n",
        "    match = re.search(r'garaż|garaz', ad_title, re.IGNORECASE)\n",
        "    if match:\n",
        "        garage = 1\n",
        "\n",
        "    # Check for garden\n",
        "    match = re.search(r'ogród', ad_title, re.IGNORECASE)\n",
        "    if match:\n",
        "        garden = 1\n",
        "\n",
        "    # Check for air conditioning\n",
        "    match = re.search(r'klimatyzacj', ad_title, re.IGNORECASE)\n",
        "    if match:\n",
        "        air_conditioning = 1\n",
        "\n",
        "    # Check for internet\n",
        "    match = re.search(r'internet', ad_title, re.IGNORECASE)\n",
        "    if match:\n",
        "        internet = 1\n",
        "\n",
        "    # Extract quarter\n",
        "    match = re.search(r'(Centrum|Chartowo|Chwaliszewo|Dębiec|Franowo|Górczyn|Grunwald|Jeżyce|Junikowo|Ławica|Łazarz|Malta|Naramowice|Nowe Miasto|Ogrody|Ostrów Tumski|Piątkowo|Podolany|Polanka|Rataje|Sołacz|Stare Miasto|Starołęka|Stary Rynek|Strzeszyn|Śródka|Wilczak|Wilda|Winiary|Winogrady|Wola|Zawady|Żegrze)', ad_title, re.IGNORECASE)\n",
        "    if match:\n",
        "        quarter = match.group(1).capitalize()\n",
        "\n",
        "    # Check for kawalerka\n",
        "    match  = re.search(r'kawal', ad_title, re.IGNORECASE)\n",
        "    if match:\n",
        "        kawalerka = 1\n",
        "    else:\n",
        "        kawalerka = 0\n",
        "\n",
        "    # Check for luksus\n",
        "    match = re.search(r'(kancelaria|reprezentac|hotel|secesyj)', ad_title, re.IGNORECASE)\n",
        "    if match:\n",
        "        luksus = 1\n",
        "    else:\n",
        "        luksus = 0\n",
        "\n",
        "    return price, area, rooms, furnished, students, balcony, garage, garden, air_conditioning, internet, quarter, kawalerka, luksus\n",
        "\n",
        "\n",
        "def process_dataframe(df):\n",
        "\n",
        "    \"\"\"\n",
        "    Przetwarza DataFrame, aby wypełnić brakujące wartości w różnych kolumnach\n",
        "    za pomocą funkcji extract_info.\n",
        "    \"\"\"\n",
        "\n",
        "    for index, row in df.iterrows():\n",
        "        price, area, rooms, furnished, students, balcony, garage, garden, air_conditioning, internet, quarter, kawalerka, luksus = extract_info(row['ad_title'])\n",
        "        df.loc[index, 'kawalerka'] = kawalerka\n",
        "        df.loc[index, 'luksus'] = luksus\n",
        "\n",
        "        if pd.isna(row['price']) or pd.isna(row['flat_area']) or pd.isna(row['flat_rooms']) or pd.isna(row['flat_for_students']) or pd.isna(row['flat_balcony']) or pd.isna(row['flat_garage']) or pd.isna(row['flat_garden']) or pd.isna(row['flat_air_cond']) or pd.isna(row['flat_internet']):\n",
        "            if rooms is not None:\n",
        "                df.loc[index, 'flat_rooms'] = rooms\n",
        "            if area is not None:\n",
        "                df.loc[index, 'flat_area'] = area\n",
        "            if furnished is not None:\n",
        "                df.loc[index, 'flat_furnished'] = furnished\n",
        "            if quarter is not None:\n",
        "                df.loc[index, 'quarter'] = quarter\n",
        "            if balcony is not None:\n",
        "                df.loc[index, 'flat_balcony'] = balcony\n",
        "            if garage is not None:\n",
        "                df.loc[index, 'flat_garage'] = garage\n",
        "            if garden is not None:\n",
        "                df.loc[index, 'flat_garden'] = garden\n",
        "            if air_conditioning is not None:\n",
        "                df.loc[index, 'flat_air_cond'] = air_conditioning\n",
        "            if internet is not None:\n",
        "                df.loc[index, 'flat_internet'] = internet\n",
        "            if students is not None:\n",
        "                df.loc[index, 'flat_for_students'] = students\n",
        "            if price is not None and pd.isna(row['price']) and 700 <= price <= 4000:\n",
        "                df.loc[index, 'price'] = price\n",
        "\n",
        "    return df\n",
        "\n",
        "rent_df = process_dataframe(rent_df)"
      ]
    },
    {
      "cell_type": "markdown",
      "source": [
        "## **Imputacja**\n",
        "\n",
        "---"
      ],
      "metadata": {
        "id": "s06ciboAH0sZ"
      }
    },
    {
      "cell_type": "markdown",
      "source": [
        "Usunięcie kolumn, które nie wymagają imputowania"
      ],
      "metadata": {
        "id": "kdHwvtzZI4MK"
      }
    },
    {
      "cell_type": "code",
      "execution_count": 30,
      "metadata": {
        "id": "HTOiDo6OBjPq"
      },
      "outputs": [],
      "source": [
        "rent_df.drop(['ad_title','price','flat_internet','flat_anti_blinds'], axis=1, inplace=True)"
      ]
    },
    {
      "cell_type": "markdown",
      "source": [
        "Zamiana kategorycznej kolumny quarter na wiele kolumn numerycznych stosując **One Hot Encoding**"
      ],
      "metadata": {
        "id": "SBctIaMkJE9w"
      }
    },
    {
      "source": [
        "from sklearn.preprocessing import OneHotEncoder\n",
        "\n",
        "# Kodowanie typu one-hot\n",
        "encoder = OneHotEncoder(sparse_output=False, handle_unknown='ignore')\n",
        "\n",
        "# Przekształcenie kolumny 'quarter' na wiele kolumn numerycznych\n",
        "encoded_quarter = encoder.fit_transform(rent_df[['quarter']])\n",
        "\n",
        "# Utworzenie nowego DataFrame z zakodowanymi danymi\n",
        "encoded_df = pd.DataFrame(encoded_quarter, columns=encoder.get_feature_names_out(['quarter']))\n",
        "\n",
        "# Połączenie oryginalnego zbioru danych z przekształconą kolumną quarter\n",
        "rent_df = pd.concat([rent_df, encoded_df.drop('quarter_nan',axis=1)], axis=1)\n",
        "\n",
        "# Usunięcie oryginalnej kolumny 'quarter'\n",
        "rent_df = rent_df.drop(['quarter'], axis=1)"
      ],
      "cell_type": "code",
      "metadata": {
        "id": "o6JhM36IKeOo"
      },
      "execution_count": 31,
      "outputs": []
    },
    {
      "cell_type": "markdown",
      "source": [
        "Utworzenie iteracyjnego imputera. Jako parametr - estymator użyto lasu losowego."
      ],
      "metadata": {
        "id": "z-iWDsm0vVvk"
      }
    },
    {
      "source": [
        "# Iteracyjna imputacja\n",
        "\n",
        "# Utworzenie obiektu IterativeImputer z estymatorem RandomForestClassifier dla cech kategorycznych\n",
        "imputer = IterativeImputer(estimator=RandomForestClassifier())\n",
        "\n",
        "# Utworzenie obiektu IterativeImputer z estymatorem RandomForestRegressor dla cech numerycznych\n",
        "imputer_num = IterativeImputer(estimator=RandomForestRegressor())\n",
        "\n",
        "# Wybór kolumn zaczynających się od 'quarter' za pomocą wyrażenia listowego\n",
        "quarter_cols = [col for col in rent_df.columns if col.startswith('quarter_')]\n",
        "\n",
        "# Ustawienie kolumn do imputacji\n",
        "columns_to_impute = quarter_cols + ['flat_balcony']\n",
        "\n",
        "# Imputacja brakujących wartości\n",
        "rent_df_imputed = pd.DataFrame(imputer.fit_transform(rent_df[columns_to_impute]))\n",
        "\n",
        "# Zastąpienie oryginalnych kolumn w rent_df wartościami imputowanymi\n",
        "rent_df = rent_df.drop(columns_to_impute, axis=1)\n",
        "rent_df = pd.concat([rent_df, rent_df_imputed], axis=1)\n",
        "\n",
        "# Imputacja brakujących wartości w kolumnach 'flat_area', 'flat_rooms' i 'individual'\n",
        "rent_df['flat_area'] = imputer_num.fit_transform(rent_df[['flat_area']])\n",
        "rent_df['flat_rooms'] = imputer_num.fit_transform(rent_df[['flat_rooms']])\n",
        "rent_df['individual'] = imputer.fit_transform(rent_df[['individual']])\n",
        "\n",
        "# Ustawienie kolumn do imputacji\n",
        "columns_to_impute = ['flat_garage','flat_dishwasher','flat_furnished','flat_garden']\n",
        "\n",
        "# Imputacja brakujących wartości\n",
        "rent_df_imputed = pd.DataFrame(imputer.fit_transform(rent_df[columns_to_impute]))\n",
        "\n",
        "# Zastąpienie oryginalnych kolumn w rent_df wartościami imputowanymi\n",
        "rent_df = rent_df.drop(columns_to_impute, axis=1)\n",
        "rent_df = pd.concat([rent_df, rent_df_imputed], axis=1)\n",
        "\n",
        "# Ustawienie kolumn do imputacji\n",
        "columns_to_impute = ['flat_for_students','flat_closed_area']\n",
        "\n",
        "# Imputacja brakujących wartości\n",
        "rent_df_imputed = pd.DataFrame(imputer.fit_transform(rent_df[columns_to_impute]))\n",
        "\n",
        "# Zastąpienie oryginalnych kolumn w rent_df wartościami imputowanymi\n",
        "rent_df = rent_df.drop(columns_to_impute, axis=1)\n",
        "rent_df = pd.concat([rent_df, rent_df_imputed], axis=1)"
      ],
      "cell_type": "code",
      "metadata": {
        "id": "ZM9qJiZcP3BT"
      },
      "execution_count": 32,
      "outputs": []
    },
    {
      "cell_type": "code",
      "execution_count": 33,
      "metadata": {
        "id": "KSvQBOZ89Xo3"
      },
      "outputs": [],
      "source": [
        "# Połącz kolumnę 'price' z zbioru uczącego do rent_df na podstawie 'id'\n",
        "rent_df = pd.merge(rent_df, train_df[['id', 'price']], on='id', how='left')"
      ]
    },
    {
      "cell_type": "code",
      "execution_count": 34,
      "metadata": {
        "colab": {
          "base_uri": "https://localhost:8080/",
          "height": 0
        },
        "id": "E9OXJ7DK-jdm",
        "outputId": "2c8f440b-0086-497a-e0f6-79a65423af6b"
      },
      "outputs": [
        {
          "output_type": "stream",
          "name": "stderr",
          "text": [
            "<ipython-input-34-ea48997fc11e>:4: SettingWithCopyWarning: \n",
            "A value is trying to be set on a copy of a slice from a DataFrame\n",
            "\n",
            "See the caveats in the documentation: https://pandas.pydata.org/pandas-docs/stable/user_guide/indexing.html#returning-a-view-versus-a-copy\n",
            "  poznan_rent_test.drop(['price'], axis=1, inplace=True)\n"
          ]
        }
      ],
      "source": [
        "# Podziel rent_df na zbiory treningowe i testowe na podstawie obecności brakujących wartości w kolumnie 'price'\n",
        "poznan_rent_train = rent_df[rent_df['price'].notnull()]\n",
        "poznan_rent_test = rent_df[rent_df['price'].isnull()]\n",
        "poznan_rent_test.drop(['price'], axis=1, inplace=True)"
      ]
    },
    {
      "cell_type": "code",
      "execution_count": 35,
      "metadata": {
        "id": "7Jdf9gRHCZfg"
      },
      "outputs": [],
      "source": [
        "# Konwersja nazw kolumn na typ tekstowy\n",
        "\n",
        "poznan_rent_train.columns = poznan_rent_train.columns.astype(str)\n",
        "poznan_rent_test.columns = poznan_rent_test.columns.astype(str)"
      ]
    },
    {
      "cell_type": "markdown",
      "source": [
        "## **Dopasowanie modelu Random Forest do danych treningowych**\n",
        "\n",
        "---"
      ],
      "metadata": {
        "id": "Cec0D2MPPGZV"
      }
    },
    {
      "cell_type": "code",
      "execution_count": 36,
      "metadata": {
        "colab": {
          "base_uri": "https://localhost:8080/",
          "height": 80
        },
        "id": "T04cffquUl6Q",
        "outputId": "71fe47e4-a5b7-4fe8-c054-d194e385ff02"
      },
      "outputs": [
        {
          "output_type": "execute_result",
          "data": {
            "text/plain": [
              "RandomForestRegressor(n_estimators=300, random_state=42)"
            ],
            "text/html": [
              "<style>#sk-container-id-2 {\n",
              "  /* Definition of color scheme common for light and dark mode */\n",
              "  --sklearn-color-text: #000;\n",
              "  --sklearn-color-text-muted: #666;\n",
              "  --sklearn-color-line: gray;\n",
              "  /* Definition of color scheme for unfitted estimators */\n",
              "  --sklearn-color-unfitted-level-0: #fff5e6;\n",
              "  --sklearn-color-unfitted-level-1: #f6e4d2;\n",
              "  --sklearn-color-unfitted-level-2: #ffe0b3;\n",
              "  --sklearn-color-unfitted-level-3: chocolate;\n",
              "  /* Definition of color scheme for fitted estimators */\n",
              "  --sklearn-color-fitted-level-0: #f0f8ff;\n",
              "  --sklearn-color-fitted-level-1: #d4ebff;\n",
              "  --sklearn-color-fitted-level-2: #b3dbfd;\n",
              "  --sklearn-color-fitted-level-3: cornflowerblue;\n",
              "\n",
              "  /* Specific color for light theme */\n",
              "  --sklearn-color-text-on-default-background: var(--sg-text-color, var(--theme-code-foreground, var(--jp-content-font-color1, black)));\n",
              "  --sklearn-color-background: var(--sg-background-color, var(--theme-background, var(--jp-layout-color0, white)));\n",
              "  --sklearn-color-border-box: var(--sg-text-color, var(--theme-code-foreground, var(--jp-content-font-color1, black)));\n",
              "  --sklearn-color-icon: #696969;\n",
              "\n",
              "  @media (prefers-color-scheme: dark) {\n",
              "    /* Redefinition of color scheme for dark theme */\n",
              "    --sklearn-color-text-on-default-background: var(--sg-text-color, var(--theme-code-foreground, var(--jp-content-font-color1, white)));\n",
              "    --sklearn-color-background: var(--sg-background-color, var(--theme-background, var(--jp-layout-color0, #111)));\n",
              "    --sklearn-color-border-box: var(--sg-text-color, var(--theme-code-foreground, var(--jp-content-font-color1, white)));\n",
              "    --sklearn-color-icon: #878787;\n",
              "  }\n",
              "}\n",
              "\n",
              "#sk-container-id-2 {\n",
              "  color: var(--sklearn-color-text);\n",
              "}\n",
              "\n",
              "#sk-container-id-2 pre {\n",
              "  padding: 0;\n",
              "}\n",
              "\n",
              "#sk-container-id-2 input.sk-hidden--visually {\n",
              "  border: 0;\n",
              "  clip: rect(1px 1px 1px 1px);\n",
              "  clip: rect(1px, 1px, 1px, 1px);\n",
              "  height: 1px;\n",
              "  margin: -1px;\n",
              "  overflow: hidden;\n",
              "  padding: 0;\n",
              "  position: absolute;\n",
              "  width: 1px;\n",
              "}\n",
              "\n",
              "#sk-container-id-2 div.sk-dashed-wrapped {\n",
              "  border: 1px dashed var(--sklearn-color-line);\n",
              "  margin: 0 0.4em 0.5em 0.4em;\n",
              "  box-sizing: border-box;\n",
              "  padding-bottom: 0.4em;\n",
              "  background-color: var(--sklearn-color-background);\n",
              "}\n",
              "\n",
              "#sk-container-id-2 div.sk-container {\n",
              "  /* jupyter's `normalize.less` sets `[hidden] { display: none; }`\n",
              "     but bootstrap.min.css set `[hidden] { display: none !important; }`\n",
              "     so we also need the `!important` here to be able to override the\n",
              "     default hidden behavior on the sphinx rendered scikit-learn.org.\n",
              "     See: https://github.com/scikit-learn/scikit-learn/issues/21755 */\n",
              "  display: inline-block !important;\n",
              "  position: relative;\n",
              "}\n",
              "\n",
              "#sk-container-id-2 div.sk-text-repr-fallback {\n",
              "  display: none;\n",
              "}\n",
              "\n",
              "div.sk-parallel-item,\n",
              "div.sk-serial,\n",
              "div.sk-item {\n",
              "  /* draw centered vertical line to link estimators */\n",
              "  background-image: linear-gradient(var(--sklearn-color-text-on-default-background), var(--sklearn-color-text-on-default-background));\n",
              "  background-size: 2px 100%;\n",
              "  background-repeat: no-repeat;\n",
              "  background-position: center center;\n",
              "}\n",
              "\n",
              "/* Parallel-specific style estimator block */\n",
              "\n",
              "#sk-container-id-2 div.sk-parallel-item::after {\n",
              "  content: \"\";\n",
              "  width: 100%;\n",
              "  border-bottom: 2px solid var(--sklearn-color-text-on-default-background);\n",
              "  flex-grow: 1;\n",
              "}\n",
              "\n",
              "#sk-container-id-2 div.sk-parallel {\n",
              "  display: flex;\n",
              "  align-items: stretch;\n",
              "  justify-content: center;\n",
              "  background-color: var(--sklearn-color-background);\n",
              "  position: relative;\n",
              "}\n",
              "\n",
              "#sk-container-id-2 div.sk-parallel-item {\n",
              "  display: flex;\n",
              "  flex-direction: column;\n",
              "}\n",
              "\n",
              "#sk-container-id-2 div.sk-parallel-item:first-child::after {\n",
              "  align-self: flex-end;\n",
              "  width: 50%;\n",
              "}\n",
              "\n",
              "#sk-container-id-2 div.sk-parallel-item:last-child::after {\n",
              "  align-self: flex-start;\n",
              "  width: 50%;\n",
              "}\n",
              "\n",
              "#sk-container-id-2 div.sk-parallel-item:only-child::after {\n",
              "  width: 0;\n",
              "}\n",
              "\n",
              "/* Serial-specific style estimator block */\n",
              "\n",
              "#sk-container-id-2 div.sk-serial {\n",
              "  display: flex;\n",
              "  flex-direction: column;\n",
              "  align-items: center;\n",
              "  background-color: var(--sklearn-color-background);\n",
              "  padding-right: 1em;\n",
              "  padding-left: 1em;\n",
              "}\n",
              "\n",
              "\n",
              "/* Toggleable style: style used for estimator/Pipeline/ColumnTransformer box that is\n",
              "clickable and can be expanded/collapsed.\n",
              "- Pipeline and ColumnTransformer use this feature and define the default style\n",
              "- Estimators will overwrite some part of the style using the `sk-estimator` class\n",
              "*/\n",
              "\n",
              "/* Pipeline and ColumnTransformer style (default) */\n",
              "\n",
              "#sk-container-id-2 div.sk-toggleable {\n",
              "  /* Default theme specific background. It is overwritten whether we have a\n",
              "  specific estimator or a Pipeline/ColumnTransformer */\n",
              "  background-color: var(--sklearn-color-background);\n",
              "}\n",
              "\n",
              "/* Toggleable label */\n",
              "#sk-container-id-2 label.sk-toggleable__label {\n",
              "  cursor: pointer;\n",
              "  display: flex;\n",
              "  width: 100%;\n",
              "  margin-bottom: 0;\n",
              "  padding: 0.5em;\n",
              "  box-sizing: border-box;\n",
              "  text-align: center;\n",
              "  align-items: start;\n",
              "  justify-content: space-between;\n",
              "  gap: 0.5em;\n",
              "}\n",
              "\n",
              "#sk-container-id-2 label.sk-toggleable__label .caption {\n",
              "  font-size: 0.6rem;\n",
              "  font-weight: lighter;\n",
              "  color: var(--sklearn-color-text-muted);\n",
              "}\n",
              "\n",
              "#sk-container-id-2 label.sk-toggleable__label-arrow:before {\n",
              "  /* Arrow on the left of the label */\n",
              "  content: \"▸\";\n",
              "  float: left;\n",
              "  margin-right: 0.25em;\n",
              "  color: var(--sklearn-color-icon);\n",
              "}\n",
              "\n",
              "#sk-container-id-2 label.sk-toggleable__label-arrow:hover:before {\n",
              "  color: var(--sklearn-color-text);\n",
              "}\n",
              "\n",
              "/* Toggleable content - dropdown */\n",
              "\n",
              "#sk-container-id-2 div.sk-toggleable__content {\n",
              "  max-height: 0;\n",
              "  max-width: 0;\n",
              "  overflow: hidden;\n",
              "  text-align: left;\n",
              "  /* unfitted */\n",
              "  background-color: var(--sklearn-color-unfitted-level-0);\n",
              "}\n",
              "\n",
              "#sk-container-id-2 div.sk-toggleable__content.fitted {\n",
              "  /* fitted */\n",
              "  background-color: var(--sklearn-color-fitted-level-0);\n",
              "}\n",
              "\n",
              "#sk-container-id-2 div.sk-toggleable__content pre {\n",
              "  margin: 0.2em;\n",
              "  border-radius: 0.25em;\n",
              "  color: var(--sklearn-color-text);\n",
              "  /* unfitted */\n",
              "  background-color: var(--sklearn-color-unfitted-level-0);\n",
              "}\n",
              "\n",
              "#sk-container-id-2 div.sk-toggleable__content.fitted pre {\n",
              "  /* unfitted */\n",
              "  background-color: var(--sklearn-color-fitted-level-0);\n",
              "}\n",
              "\n",
              "#sk-container-id-2 input.sk-toggleable__control:checked~div.sk-toggleable__content {\n",
              "  /* Expand drop-down */\n",
              "  max-height: 200px;\n",
              "  max-width: 100%;\n",
              "  overflow: auto;\n",
              "}\n",
              "\n",
              "#sk-container-id-2 input.sk-toggleable__control:checked~label.sk-toggleable__label-arrow:before {\n",
              "  content: \"▾\";\n",
              "}\n",
              "\n",
              "/* Pipeline/ColumnTransformer-specific style */\n",
              "\n",
              "#sk-container-id-2 div.sk-label input.sk-toggleable__control:checked~label.sk-toggleable__label {\n",
              "  color: var(--sklearn-color-text);\n",
              "  background-color: var(--sklearn-color-unfitted-level-2);\n",
              "}\n",
              "\n",
              "#sk-container-id-2 div.sk-label.fitted input.sk-toggleable__control:checked~label.sk-toggleable__label {\n",
              "  background-color: var(--sklearn-color-fitted-level-2);\n",
              "}\n",
              "\n",
              "/* Estimator-specific style */\n",
              "\n",
              "/* Colorize estimator box */\n",
              "#sk-container-id-2 div.sk-estimator input.sk-toggleable__control:checked~label.sk-toggleable__label {\n",
              "  /* unfitted */\n",
              "  background-color: var(--sklearn-color-unfitted-level-2);\n",
              "}\n",
              "\n",
              "#sk-container-id-2 div.sk-estimator.fitted input.sk-toggleable__control:checked~label.sk-toggleable__label {\n",
              "  /* fitted */\n",
              "  background-color: var(--sklearn-color-fitted-level-2);\n",
              "}\n",
              "\n",
              "#sk-container-id-2 div.sk-label label.sk-toggleable__label,\n",
              "#sk-container-id-2 div.sk-label label {\n",
              "  /* The background is the default theme color */\n",
              "  color: var(--sklearn-color-text-on-default-background);\n",
              "}\n",
              "\n",
              "/* On hover, darken the color of the background */\n",
              "#sk-container-id-2 div.sk-label:hover label.sk-toggleable__label {\n",
              "  color: var(--sklearn-color-text);\n",
              "  background-color: var(--sklearn-color-unfitted-level-2);\n",
              "}\n",
              "\n",
              "/* Label box, darken color on hover, fitted */\n",
              "#sk-container-id-2 div.sk-label.fitted:hover label.sk-toggleable__label.fitted {\n",
              "  color: var(--sklearn-color-text);\n",
              "  background-color: var(--sklearn-color-fitted-level-2);\n",
              "}\n",
              "\n",
              "/* Estimator label */\n",
              "\n",
              "#sk-container-id-2 div.sk-label label {\n",
              "  font-family: monospace;\n",
              "  font-weight: bold;\n",
              "  display: inline-block;\n",
              "  line-height: 1.2em;\n",
              "}\n",
              "\n",
              "#sk-container-id-2 div.sk-label-container {\n",
              "  text-align: center;\n",
              "}\n",
              "\n",
              "/* Estimator-specific */\n",
              "#sk-container-id-2 div.sk-estimator {\n",
              "  font-family: monospace;\n",
              "  border: 1px dotted var(--sklearn-color-border-box);\n",
              "  border-radius: 0.25em;\n",
              "  box-sizing: border-box;\n",
              "  margin-bottom: 0.5em;\n",
              "  /* unfitted */\n",
              "  background-color: var(--sklearn-color-unfitted-level-0);\n",
              "}\n",
              "\n",
              "#sk-container-id-2 div.sk-estimator.fitted {\n",
              "  /* fitted */\n",
              "  background-color: var(--sklearn-color-fitted-level-0);\n",
              "}\n",
              "\n",
              "/* on hover */\n",
              "#sk-container-id-2 div.sk-estimator:hover {\n",
              "  /* unfitted */\n",
              "  background-color: var(--sklearn-color-unfitted-level-2);\n",
              "}\n",
              "\n",
              "#sk-container-id-2 div.sk-estimator.fitted:hover {\n",
              "  /* fitted */\n",
              "  background-color: var(--sklearn-color-fitted-level-2);\n",
              "}\n",
              "\n",
              "/* Specification for estimator info (e.g. \"i\" and \"?\") */\n",
              "\n",
              "/* Common style for \"i\" and \"?\" */\n",
              "\n",
              ".sk-estimator-doc-link,\n",
              "a:link.sk-estimator-doc-link,\n",
              "a:visited.sk-estimator-doc-link {\n",
              "  float: right;\n",
              "  font-size: smaller;\n",
              "  line-height: 1em;\n",
              "  font-family: monospace;\n",
              "  background-color: var(--sklearn-color-background);\n",
              "  border-radius: 1em;\n",
              "  height: 1em;\n",
              "  width: 1em;\n",
              "  text-decoration: none !important;\n",
              "  margin-left: 0.5em;\n",
              "  text-align: center;\n",
              "  /* unfitted */\n",
              "  border: var(--sklearn-color-unfitted-level-1) 1pt solid;\n",
              "  color: var(--sklearn-color-unfitted-level-1);\n",
              "}\n",
              "\n",
              ".sk-estimator-doc-link.fitted,\n",
              "a:link.sk-estimator-doc-link.fitted,\n",
              "a:visited.sk-estimator-doc-link.fitted {\n",
              "  /* fitted */\n",
              "  border: var(--sklearn-color-fitted-level-1) 1pt solid;\n",
              "  color: var(--sklearn-color-fitted-level-1);\n",
              "}\n",
              "\n",
              "/* On hover */\n",
              "div.sk-estimator:hover .sk-estimator-doc-link:hover,\n",
              ".sk-estimator-doc-link:hover,\n",
              "div.sk-label-container:hover .sk-estimator-doc-link:hover,\n",
              ".sk-estimator-doc-link:hover {\n",
              "  /* unfitted */\n",
              "  background-color: var(--sklearn-color-unfitted-level-3);\n",
              "  color: var(--sklearn-color-background);\n",
              "  text-decoration: none;\n",
              "}\n",
              "\n",
              "div.sk-estimator.fitted:hover .sk-estimator-doc-link.fitted:hover,\n",
              ".sk-estimator-doc-link.fitted:hover,\n",
              "div.sk-label-container:hover .sk-estimator-doc-link.fitted:hover,\n",
              ".sk-estimator-doc-link.fitted:hover {\n",
              "  /* fitted */\n",
              "  background-color: var(--sklearn-color-fitted-level-3);\n",
              "  color: var(--sklearn-color-background);\n",
              "  text-decoration: none;\n",
              "}\n",
              "\n",
              "/* Span, style for the box shown on hovering the info icon */\n",
              ".sk-estimator-doc-link span {\n",
              "  display: none;\n",
              "  z-index: 9999;\n",
              "  position: relative;\n",
              "  font-weight: normal;\n",
              "  right: .2ex;\n",
              "  padding: .5ex;\n",
              "  margin: .5ex;\n",
              "  width: min-content;\n",
              "  min-width: 20ex;\n",
              "  max-width: 50ex;\n",
              "  color: var(--sklearn-color-text);\n",
              "  box-shadow: 2pt 2pt 4pt #999;\n",
              "  /* unfitted */\n",
              "  background: var(--sklearn-color-unfitted-level-0);\n",
              "  border: .5pt solid var(--sklearn-color-unfitted-level-3);\n",
              "}\n",
              "\n",
              ".sk-estimator-doc-link.fitted span {\n",
              "  /* fitted */\n",
              "  background: var(--sklearn-color-fitted-level-0);\n",
              "  border: var(--sklearn-color-fitted-level-3);\n",
              "}\n",
              "\n",
              ".sk-estimator-doc-link:hover span {\n",
              "  display: block;\n",
              "}\n",
              "\n",
              "/* \"?\"-specific style due to the `<a>` HTML tag */\n",
              "\n",
              "#sk-container-id-2 a.estimator_doc_link {\n",
              "  float: right;\n",
              "  font-size: 1rem;\n",
              "  line-height: 1em;\n",
              "  font-family: monospace;\n",
              "  background-color: var(--sklearn-color-background);\n",
              "  border-radius: 1rem;\n",
              "  height: 1rem;\n",
              "  width: 1rem;\n",
              "  text-decoration: none;\n",
              "  /* unfitted */\n",
              "  color: var(--sklearn-color-unfitted-level-1);\n",
              "  border: var(--sklearn-color-unfitted-level-1) 1pt solid;\n",
              "}\n",
              "\n",
              "#sk-container-id-2 a.estimator_doc_link.fitted {\n",
              "  /* fitted */\n",
              "  border: var(--sklearn-color-fitted-level-1) 1pt solid;\n",
              "  color: var(--sklearn-color-fitted-level-1);\n",
              "}\n",
              "\n",
              "/* On hover */\n",
              "#sk-container-id-2 a.estimator_doc_link:hover {\n",
              "  /* unfitted */\n",
              "  background-color: var(--sklearn-color-unfitted-level-3);\n",
              "  color: var(--sklearn-color-background);\n",
              "  text-decoration: none;\n",
              "}\n",
              "\n",
              "#sk-container-id-2 a.estimator_doc_link.fitted:hover {\n",
              "  /* fitted */\n",
              "  background-color: var(--sklearn-color-fitted-level-3);\n",
              "}\n",
              "</style><div id=\"sk-container-id-2\" class=\"sk-top-container\"><div class=\"sk-text-repr-fallback\"><pre>RandomForestRegressor(n_estimators=300, random_state=42)</pre><b>In a Jupyter environment, please rerun this cell to show the HTML representation or trust the notebook. <br />On GitHub, the HTML representation is unable to render, please try loading this page with nbviewer.org.</b></div><div class=\"sk-container\" hidden><div class=\"sk-item\"><div class=\"sk-estimator fitted sk-toggleable\"><input class=\"sk-toggleable__control sk-hidden--visually\" id=\"sk-estimator-id-2\" type=\"checkbox\" checked><label for=\"sk-estimator-id-2\" class=\"sk-toggleable__label fitted sk-toggleable__label-arrow\"><div><div>RandomForestRegressor</div></div><div><a class=\"sk-estimator-doc-link fitted\" rel=\"noreferrer\" target=\"_blank\" href=\"https://scikit-learn.org/1.6/modules/generated/sklearn.ensemble.RandomForestRegressor.html\">?<span>Documentation for RandomForestRegressor</span></a><span class=\"sk-estimator-doc-link fitted\">i<span>Fitted</span></span></div></label><div class=\"sk-toggleable__content fitted\"><pre>RandomForestRegressor(n_estimators=300, random_state=42)</pre></div> </div></div></div></div>"
            ]
          },
          "metadata": {},
          "execution_count": 36
        }
      ],
      "source": [
        "X_train = poznan_rent_train.drop(['price'], axis=1).values\n",
        "\n",
        "y_train = poznan_rent_train['price'].values\n",
        "\n",
        "rf_model = RandomForestRegressor(n_estimators = 300, random_state=42)\n",
        "\n",
        "#Ustawione ziarno w celu odtworzenia jednakowych wyników\n",
        "#Im wyższy parametr n_estimators tym trafniejsze predykcje, ale rownież wyższa złożoność obliczeniowa i dłuższy czas trenowania modelu\n",
        "\n",
        "rf_model.fit(X_train, y_train)"
      ]
    },
    {
      "cell_type": "markdown",
      "source": [
        "Utworzenie obiektu KFold do walidacji krzyżowej modelu"
      ],
      "metadata": {
        "id": "Ai48S29qwR_n"
      }
    },
    {
      "cell_type": "code",
      "source": [
        "kf = KFold(n_splits=5, shuffle=True, random_state=42)"
      ],
      "metadata": {
        "id": "K0s9eeJ7wQvv"
      },
      "execution_count": 37,
      "outputs": []
    },
    {
      "cell_type": "markdown",
      "source": [
        "Ewaluacja modelu"
      ],
      "metadata": {
        "id": "UxGrpmSWXVsv"
      }
    },
    {
      "cell_type": "code",
      "source": [
        "scores = cross_validate(rf_model, X_train, y_train, cv=kf,\n",
        "                        scoring=['neg_mean_squared_error', 'r2'],\n",
        "                        return_train_score=True)\n",
        "\n",
        "metrics = pd.DataFrame({\n",
        "    'Test': [-np.mean(scores['test_neg_mean_squared_error']),\n",
        "             np.std(scores['test_neg_mean_squared_error']),\n",
        "             np.mean(scores['test_r2']),\n",
        "             np.std(scores['test_r2'])],\n",
        "    'Train': [-np.mean(scores['train_neg_mean_squared_error']),\n",
        "              np.std(scores['train_neg_mean_squared_error']),\n",
        "              np.mean(scores['train_r2']),\n",
        "              np.std(scores['train_r2'])]\n",
        "}, index=['Average MSE', 'Std Dev of MSE', 'Average R-squared', 'Std Dev of R-squared'])\n",
        "\n",
        "print(metrics)"
      ],
      "metadata": {
        "colab": {
          "base_uri": "https://localhost:8080/",
          "height": 0
        },
        "id": "CcN7D72vXPaK",
        "outputId": "d41da0fc-99f5-4777-c709-73d273191de0"
      },
      "execution_count": 38,
      "outputs": [
        {
          "output_type": "stream",
          "name": "stdout",
          "text": [
            "                              Test         Train\n",
            "Average MSE           93018.302745  12781.338914\n",
            "Std Dev of MSE         6161.021811    120.866299\n",
            "Average R-squared         0.694799      0.958068\n",
            "Std Dev of R-squared      0.019146      0.000378\n"
          ]
        }
      ]
    },
    {
      "cell_type": "markdown",
      "source": [
        "## **Obliczenie wartości przewidywanych**\n",
        "\n",
        "---"
      ],
      "metadata": {
        "id": "SIvTqpmA_6Ta"
      }
    },
    {
      "cell_type": "code",
      "execution_count": 39,
      "metadata": {
        "id": "oLk05l_dtwZW"
      },
      "outputs": [],
      "source": [
        "y_pred = rf_model.predict(poznan_rent_test.values)"
      ]
    },
    {
      "cell_type": "markdown",
      "source": [
        "Stworzenie DataFrame z predykcjami o wymaganej strukturze"
      ],
      "metadata": {
        "id": "xEvAUqfPWz2c"
      }
    },
    {
      "cell_type": "code",
      "execution_count": 40,
      "metadata": {
        "colab": {
          "base_uri": "https://localhost:8080/",
          "height": 423
        },
        "id": "FH5dn2-ZCtYw",
        "outputId": "8bdc0ad2-239f-4599-814d-8447fc733b6f"
      },
      "outputs": [
        {
          "output_type": "execute_result",
          "data": {
            "text/plain": [
              "        ID       TARGET\n",
              "0        1  1750.293333\n",
              "1        2  1253.030000\n",
              "2        3  1310.650000\n",
              "3        4  1596.033333\n",
              "4        5  3317.526667\n",
              "...    ...          ...\n",
              "4837  4838  1562.180000\n",
              "4838  4839  2691.190000\n",
              "4839  4840  1960.366667\n",
              "4840  4841  2247.696667\n",
              "4841  4842  1584.770000\n",
              "\n",
              "[4842 rows x 2 columns]"
            ],
            "text/html": [
              "\n",
              "  <div id=\"df-6da95f49-235c-4ec2-be23-7ece29ddf6aa\" class=\"colab-df-container\">\n",
              "    <div>\n",
              "<style scoped>\n",
              "    .dataframe tbody tr th:only-of-type {\n",
              "        vertical-align: middle;\n",
              "    }\n",
              "\n",
              "    .dataframe tbody tr th {\n",
              "        vertical-align: top;\n",
              "    }\n",
              "\n",
              "    .dataframe thead th {\n",
              "        text-align: right;\n",
              "    }\n",
              "</style>\n",
              "<table border=\"1\" class=\"dataframe\">\n",
              "  <thead>\n",
              "    <tr style=\"text-align: right;\">\n",
              "      <th></th>\n",
              "      <th>ID</th>\n",
              "      <th>TARGET</th>\n",
              "    </tr>\n",
              "  </thead>\n",
              "  <tbody>\n",
              "    <tr>\n",
              "      <th>0</th>\n",
              "      <td>1</td>\n",
              "      <td>1750.293333</td>\n",
              "    </tr>\n",
              "    <tr>\n",
              "      <th>1</th>\n",
              "      <td>2</td>\n",
              "      <td>1253.030000</td>\n",
              "    </tr>\n",
              "    <tr>\n",
              "      <th>2</th>\n",
              "      <td>3</td>\n",
              "      <td>1310.650000</td>\n",
              "    </tr>\n",
              "    <tr>\n",
              "      <th>3</th>\n",
              "      <td>4</td>\n",
              "      <td>1596.033333</td>\n",
              "    </tr>\n",
              "    <tr>\n",
              "      <th>4</th>\n",
              "      <td>5</td>\n",
              "      <td>3317.526667</td>\n",
              "    </tr>\n",
              "    <tr>\n",
              "      <th>...</th>\n",
              "      <td>...</td>\n",
              "      <td>...</td>\n",
              "    </tr>\n",
              "    <tr>\n",
              "      <th>4837</th>\n",
              "      <td>4838</td>\n",
              "      <td>1562.180000</td>\n",
              "    </tr>\n",
              "    <tr>\n",
              "      <th>4838</th>\n",
              "      <td>4839</td>\n",
              "      <td>2691.190000</td>\n",
              "    </tr>\n",
              "    <tr>\n",
              "      <th>4839</th>\n",
              "      <td>4840</td>\n",
              "      <td>1960.366667</td>\n",
              "    </tr>\n",
              "    <tr>\n",
              "      <th>4840</th>\n",
              "      <td>4841</td>\n",
              "      <td>2247.696667</td>\n",
              "    </tr>\n",
              "    <tr>\n",
              "      <th>4841</th>\n",
              "      <td>4842</td>\n",
              "      <td>1584.770000</td>\n",
              "    </tr>\n",
              "  </tbody>\n",
              "</table>\n",
              "<p>4842 rows × 2 columns</p>\n",
              "</div>\n",
              "    <div class=\"colab-df-buttons\">\n",
              "\n",
              "  <div class=\"colab-df-container\">\n",
              "    <button class=\"colab-df-convert\" onclick=\"convertToInteractive('df-6da95f49-235c-4ec2-be23-7ece29ddf6aa')\"\n",
              "            title=\"Convert this dataframe to an interactive table.\"\n",
              "            style=\"display:none;\">\n",
              "\n",
              "  <svg xmlns=\"http://www.w3.org/2000/svg\" height=\"24px\" viewBox=\"0 -960 960 960\">\n",
              "    <path d=\"M120-120v-720h720v720H120Zm60-500h600v-160H180v160Zm220 220h160v-160H400v160Zm0 220h160v-160H400v160ZM180-400h160v-160H180v160Zm440 0h160v-160H620v160ZM180-180h160v-160H180v160Zm440 0h160v-160H620v160Z\"/>\n",
              "  </svg>\n",
              "    </button>\n",
              "\n",
              "  <style>\n",
              "    .colab-df-container {\n",
              "      display:flex;\n",
              "      gap: 12px;\n",
              "    }\n",
              "\n",
              "    .colab-df-convert {\n",
              "      background-color: #E8F0FE;\n",
              "      border: none;\n",
              "      border-radius: 50%;\n",
              "      cursor: pointer;\n",
              "      display: none;\n",
              "      fill: #1967D2;\n",
              "      height: 32px;\n",
              "      padding: 0 0 0 0;\n",
              "      width: 32px;\n",
              "    }\n",
              "\n",
              "    .colab-df-convert:hover {\n",
              "      background-color: #E2EBFA;\n",
              "      box-shadow: 0px 1px 2px rgba(60, 64, 67, 0.3), 0px 1px 3px 1px rgba(60, 64, 67, 0.15);\n",
              "      fill: #174EA6;\n",
              "    }\n",
              "\n",
              "    .colab-df-buttons div {\n",
              "      margin-bottom: 4px;\n",
              "    }\n",
              "\n",
              "    [theme=dark] .colab-df-convert {\n",
              "      background-color: #3B4455;\n",
              "      fill: #D2E3FC;\n",
              "    }\n",
              "\n",
              "    [theme=dark] .colab-df-convert:hover {\n",
              "      background-color: #434B5C;\n",
              "      box-shadow: 0px 1px 3px 1px rgba(0, 0, 0, 0.15);\n",
              "      filter: drop-shadow(0px 1px 2px rgba(0, 0, 0, 0.3));\n",
              "      fill: #FFFFFF;\n",
              "    }\n",
              "  </style>\n",
              "\n",
              "    <script>\n",
              "      const buttonEl =\n",
              "        document.querySelector('#df-6da95f49-235c-4ec2-be23-7ece29ddf6aa button.colab-df-convert');\n",
              "      buttonEl.style.display =\n",
              "        google.colab.kernel.accessAllowed ? 'block' : 'none';\n",
              "\n",
              "      async function convertToInteractive(key) {\n",
              "        const element = document.querySelector('#df-6da95f49-235c-4ec2-be23-7ece29ddf6aa');\n",
              "        const dataTable =\n",
              "          await google.colab.kernel.invokeFunction('convertToInteractive',\n",
              "                                                    [key], {});\n",
              "        if (!dataTable) return;\n",
              "\n",
              "        const docLinkHtml = 'Like what you see? Visit the ' +\n",
              "          '<a target=\"_blank\" href=https://colab.research.google.com/notebooks/data_table.ipynb>data table notebook</a>'\n",
              "          + ' to learn more about interactive tables.';\n",
              "        element.innerHTML = '';\n",
              "        dataTable['output_type'] = 'display_data';\n",
              "        await google.colab.output.renderOutput(dataTable, element);\n",
              "        const docLink = document.createElement('div');\n",
              "        docLink.innerHTML = docLinkHtml;\n",
              "        element.appendChild(docLink);\n",
              "      }\n",
              "    </script>\n",
              "  </div>\n",
              "\n",
              "\n",
              "<div id=\"df-289c4aab-31f2-468e-aa2f-eeea8f7fd534\">\n",
              "  <button class=\"colab-df-quickchart\" onclick=\"quickchart('df-289c4aab-31f2-468e-aa2f-eeea8f7fd534')\"\n",
              "            title=\"Suggest charts\"\n",
              "            style=\"display:none;\">\n",
              "\n",
              "<svg xmlns=\"http://www.w3.org/2000/svg\" height=\"24px\"viewBox=\"0 0 24 24\"\n",
              "     width=\"24px\">\n",
              "    <g>\n",
              "        <path d=\"M19 3H5c-1.1 0-2 .9-2 2v14c0 1.1.9 2 2 2h14c1.1 0 2-.9 2-2V5c0-1.1-.9-2-2-2zM9 17H7v-7h2v7zm4 0h-2V7h2v10zm4 0h-2v-4h2v4z\"/>\n",
              "    </g>\n",
              "</svg>\n",
              "  </button>\n",
              "\n",
              "<style>\n",
              "  .colab-df-quickchart {\n",
              "      --bg-color: #E8F0FE;\n",
              "      --fill-color: #1967D2;\n",
              "      --hover-bg-color: #E2EBFA;\n",
              "      --hover-fill-color: #174EA6;\n",
              "      --disabled-fill-color: #AAA;\n",
              "      --disabled-bg-color: #DDD;\n",
              "  }\n",
              "\n",
              "  [theme=dark] .colab-df-quickchart {\n",
              "      --bg-color: #3B4455;\n",
              "      --fill-color: #D2E3FC;\n",
              "      --hover-bg-color: #434B5C;\n",
              "      --hover-fill-color: #FFFFFF;\n",
              "      --disabled-bg-color: #3B4455;\n",
              "      --disabled-fill-color: #666;\n",
              "  }\n",
              "\n",
              "  .colab-df-quickchart {\n",
              "    background-color: var(--bg-color);\n",
              "    border: none;\n",
              "    border-radius: 50%;\n",
              "    cursor: pointer;\n",
              "    display: none;\n",
              "    fill: var(--fill-color);\n",
              "    height: 32px;\n",
              "    padding: 0;\n",
              "    width: 32px;\n",
              "  }\n",
              "\n",
              "  .colab-df-quickchart:hover {\n",
              "    background-color: var(--hover-bg-color);\n",
              "    box-shadow: 0 1px 2px rgba(60, 64, 67, 0.3), 0 1px 3px 1px rgba(60, 64, 67, 0.15);\n",
              "    fill: var(--button-hover-fill-color);\n",
              "  }\n",
              "\n",
              "  .colab-df-quickchart-complete:disabled,\n",
              "  .colab-df-quickchart-complete:disabled:hover {\n",
              "    background-color: var(--disabled-bg-color);\n",
              "    fill: var(--disabled-fill-color);\n",
              "    box-shadow: none;\n",
              "  }\n",
              "\n",
              "  .colab-df-spinner {\n",
              "    border: 2px solid var(--fill-color);\n",
              "    border-color: transparent;\n",
              "    border-bottom-color: var(--fill-color);\n",
              "    animation:\n",
              "      spin 1s steps(1) infinite;\n",
              "  }\n",
              "\n",
              "  @keyframes spin {\n",
              "    0% {\n",
              "      border-color: transparent;\n",
              "      border-bottom-color: var(--fill-color);\n",
              "      border-left-color: var(--fill-color);\n",
              "    }\n",
              "    20% {\n",
              "      border-color: transparent;\n",
              "      border-left-color: var(--fill-color);\n",
              "      border-top-color: var(--fill-color);\n",
              "    }\n",
              "    30% {\n",
              "      border-color: transparent;\n",
              "      border-left-color: var(--fill-color);\n",
              "      border-top-color: var(--fill-color);\n",
              "      border-right-color: var(--fill-color);\n",
              "    }\n",
              "    40% {\n",
              "      border-color: transparent;\n",
              "      border-right-color: var(--fill-color);\n",
              "      border-top-color: var(--fill-color);\n",
              "    }\n",
              "    60% {\n",
              "      border-color: transparent;\n",
              "      border-right-color: var(--fill-color);\n",
              "    }\n",
              "    80% {\n",
              "      border-color: transparent;\n",
              "      border-right-color: var(--fill-color);\n",
              "      border-bottom-color: var(--fill-color);\n",
              "    }\n",
              "    90% {\n",
              "      border-color: transparent;\n",
              "      border-bottom-color: var(--fill-color);\n",
              "    }\n",
              "  }\n",
              "</style>\n",
              "\n",
              "  <script>\n",
              "    async function quickchart(key) {\n",
              "      const quickchartButtonEl =\n",
              "        document.querySelector('#' + key + ' button');\n",
              "      quickchartButtonEl.disabled = true;  // To prevent multiple clicks.\n",
              "      quickchartButtonEl.classList.add('colab-df-spinner');\n",
              "      try {\n",
              "        const charts = await google.colab.kernel.invokeFunction(\n",
              "            'suggestCharts', [key], {});\n",
              "      } catch (error) {\n",
              "        console.error('Error during call to suggestCharts:', error);\n",
              "      }\n",
              "      quickchartButtonEl.classList.remove('colab-df-spinner');\n",
              "      quickchartButtonEl.classList.add('colab-df-quickchart-complete');\n",
              "    }\n",
              "    (() => {\n",
              "      let quickchartButtonEl =\n",
              "        document.querySelector('#df-289c4aab-31f2-468e-aa2f-eeea8f7fd534 button');\n",
              "      quickchartButtonEl.style.display =\n",
              "        google.colab.kernel.accessAllowed ? 'block' : 'none';\n",
              "    })();\n",
              "  </script>\n",
              "</div>\n",
              "\n",
              "  <div id=\"id_7844a017-cd2e-458a-b52c-86cb8a54ba88\">\n",
              "    <style>\n",
              "      .colab-df-generate {\n",
              "        background-color: #E8F0FE;\n",
              "        border: none;\n",
              "        border-radius: 50%;\n",
              "        cursor: pointer;\n",
              "        display: none;\n",
              "        fill: #1967D2;\n",
              "        height: 32px;\n",
              "        padding: 0 0 0 0;\n",
              "        width: 32px;\n",
              "      }\n",
              "\n",
              "      .colab-df-generate:hover {\n",
              "        background-color: #E2EBFA;\n",
              "        box-shadow: 0px 1px 2px rgba(60, 64, 67, 0.3), 0px 1px 3px 1px rgba(60, 64, 67, 0.15);\n",
              "        fill: #174EA6;\n",
              "      }\n",
              "\n",
              "      [theme=dark] .colab-df-generate {\n",
              "        background-color: #3B4455;\n",
              "        fill: #D2E3FC;\n",
              "      }\n",
              "\n",
              "      [theme=dark] .colab-df-generate:hover {\n",
              "        background-color: #434B5C;\n",
              "        box-shadow: 0px 1px 3px 1px rgba(0, 0, 0, 0.15);\n",
              "        filter: drop-shadow(0px 1px 2px rgba(0, 0, 0, 0.3));\n",
              "        fill: #FFFFFF;\n",
              "      }\n",
              "    </style>\n",
              "    <button class=\"colab-df-generate\" onclick=\"generateWithVariable('submission_df')\"\n",
              "            title=\"Generate code using this dataframe.\"\n",
              "            style=\"display:none;\">\n",
              "\n",
              "  <svg xmlns=\"http://www.w3.org/2000/svg\" height=\"24px\"viewBox=\"0 0 24 24\"\n",
              "       width=\"24px\">\n",
              "    <path d=\"M7,19H8.4L18.45,9,17,7.55,7,17.6ZM5,21V16.75L18.45,3.32a2,2,0,0,1,2.83,0l1.4,1.43a1.91,1.91,0,0,1,.58,1.4,1.91,1.91,0,0,1-.58,1.4L9.25,21ZM18.45,9,17,7.55Zm-12,3A5.31,5.31,0,0,0,4.9,8.1,5.31,5.31,0,0,0,1,6.5,5.31,5.31,0,0,0,4.9,4.9,5.31,5.31,0,0,0,6.5,1,5.31,5.31,0,0,0,8.1,4.9,5.31,5.31,0,0,0,12,6.5,5.46,5.46,0,0,0,6.5,12Z\"/>\n",
              "  </svg>\n",
              "    </button>\n",
              "    <script>\n",
              "      (() => {\n",
              "      const buttonEl =\n",
              "        document.querySelector('#id_7844a017-cd2e-458a-b52c-86cb8a54ba88 button.colab-df-generate');\n",
              "      buttonEl.style.display =\n",
              "        google.colab.kernel.accessAllowed ? 'block' : 'none';\n",
              "\n",
              "      buttonEl.onclick = () => {\n",
              "        google.colab.notebook.generateWithVariable('submission_df');\n",
              "      }\n",
              "      })();\n",
              "    </script>\n",
              "  </div>\n",
              "\n",
              "    </div>\n",
              "  </div>\n"
            ],
            "application/vnd.google.colaboratory.intrinsic+json": {
              "type": "dataframe",
              "variable_name": "submission_df",
              "summary": "{\n  \"name\": \"submission_df\",\n  \"rows\": 4842,\n  \"fields\": [\n    {\n      \"column\": \"ID\",\n      \"properties\": {\n        \"dtype\": \"number\",\n        \"std\": 1397,\n        \"min\": 1,\n        \"max\": 4842,\n        \"num_unique_values\": 4842,\n        \"samples\": [\n          4810,\n          3078,\n          2693\n        ],\n        \"semantic_type\": \"\",\n        \"description\": \"\"\n      }\n    },\n    {\n      \"column\": \"TARGET\",\n      \"properties\": {\n        \"dtype\": \"number\",\n        \"std\": 442.38146387180655,\n        \"min\": 732.9333333333333,\n        \"max\": 3856.6,\n        \"num_unique_values\": 4790,\n        \"samples\": [\n          1806.2533333333333,\n          962.7333333333333,\n          1166.1433333333334\n        ],\n        \"semantic_type\": \"\",\n        \"description\": \"\"\n      }\n    }\n  ]\n}"
            }
          },
          "metadata": {},
          "execution_count": 40
        }
      ],
      "source": [
        "submission_df = pd.DataFrame({'ID': range(1, len(y_pred) + 1), 'TARGET': y_pred})\n",
        "submission_df"
      ]
    },
    {
      "cell_type": "markdown",
      "source": [
        "Eksport wyników do pliku csv"
      ],
      "metadata": {
        "id": "HEJiMB3YWt1-"
      }
    },
    {
      "cell_type": "code",
      "execution_count": 41,
      "metadata": {
        "id": "FVPvsL93DG9Q"
      },
      "outputs": [],
      "source": [
        "submission_df.to_csv('submission.csv', index=False)"
      ]
    }
  ],
  "metadata": {
    "colab": {
      "provenance": [],
      "toc_visible": true
    },
    "kernelspec": {
      "display_name": "Python 3",
      "name": "python3"
    },
    "language_info": {
      "name": "python"
    }
  },
  "nbformat": 4,
  "nbformat_minor": 0
}